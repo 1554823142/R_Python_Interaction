{
 "cells": [
  {
   "cell_type": "markdown",
   "metadata": {},
   "source": [
    "### 在python内核的notebook中嵌入R代码的方法\n",
    "\n",
    "- **环境配置**\n",
    "   - 下载reticulate: `install.packages(\"reticulate\")`"
   ]
  },
  {
   "cell_type": "markdown",
   "metadata": {},
   "source": [
    "### **reticulate** 是一个 R 包，用于在 R 中调用 Python 代码，并在 R 环境和 Python 环境之间无缝交互, 来在 R 代码中嵌入 Python"
   ]
  },
  {
   "cell_type": "code",
   "execution_count": 6,
   "metadata": {
    "vscode": {
     "languageId": "r"
    }
   },
   "outputs": [],
   "source": [
    "library(reticulate)\n",
    "use_python(\"E:\\\\Python\\\\python.exe\")  # 配置 Python 解释器\n",
    "\n",
    "\n",
    "py_run_string(\"print('Hello from Python')\")"
   ]
  },
  {
   "cell_type": "markdown",
   "metadata": {},
   "source": [
    "#### 调用python中的库"
   ]
  },
  {
   "cell_type": "code",
   "execution_count": 8,
   "metadata": {
    "vscode": {
     "languageId": "r"
    }
   },
   "outputs": [
    {
     "data": {
      "text/html": [
       "<style>\n",
       ".list-inline {list-style: none; margin:0; padding: 0}\n",
       ".list-inline>li {display: inline-block}\n",
       ".list-inline>li:not(:last-child)::after {content: \"\\00b7\"; padding: 0 .5ex}\n",
       "</style>\n",
       "<ol class=list-inline><li>'R_magic.md'</li><li>'test.py'</li><li>'testR.r'</li><li>'test_jupyter_python.ipynb'</li><li>'test_jupyter_r.ipynb'</li></ol>\n"
      ],
      "text/latex": [
       "\\begin{enumerate*}\n",
       "\\item 'R\\_magic.md'\n",
       "\\item 'test.py'\n",
       "\\item 'testR.r'\n",
       "\\item 'test\\_jupyter\\_python.ipynb'\n",
       "\\item 'test\\_jupyter\\_r.ipynb'\n",
       "\\end{enumerate*}\n"
      ],
      "text/markdown": [
       "1. 'R_magic.md'\n",
       "2. 'test.py'\n",
       "3. 'testR.r'\n",
       "4. 'test_jupyter_python.ipynb'\n",
       "5. 'test_jupyter_r.ipynb'\n",
       "\n",
       "\n"
      ],
      "text/plain": [
       "[1] \"R_magic.md\"                \"test.py\"                  \n",
       "[3] \"testR.r\"                   \"test_jupyter_python.ipynb\"\n",
       "[5] \"test_jupyter_r.ipynb\"     "
      ]
     },
     "metadata": {},
     "output_type": "display_data"
    }
   ],
   "source": [
    "os <- import(\"os\")\n",
    "os$listdir(\"./\")"
   ]
  },
  {
   "cell_type": "markdown",
   "metadata": {},
   "source": [
    "#### `source_python()` 函数来运行 .py 文件"
   ]
  },
  {
   "cell_type": "code",
   "execution_count": 11,
   "metadata": {
    "vscode": {
     "languageId": "r"
    }
   },
   "outputs": [
    {
     "name": "stdout",
     "output_type": "stream",
     "text": [
      "[1] 8\n"
     ]
    }
   ],
   "source": [
    "# 加载并运行 Python 文件\n",
    "source_python(\"./test.py\")\n",
    "\n",
    "# 调用 Python 函数\n",
    "result <- add(5, 3)     # 如果脚本定义了函数或变量，可以在 R 中直接使用它们\n",
    "print(result)  # 输出 8"
   ]
  },
  {
   "cell_type": "markdown",
   "metadata": {},
   "source": [
    "#### 直接在 R Notebook 中插入 Python 代码块, 使用`py_run_string`来运行代码块"
   ]
  },
  {
   "cell_type": "code",
   "execution_count": 12,
   "metadata": {
    "vscode": {
     "languageId": "r"
    }
   },
   "outputs": [
    {
     "name": "stdout",
     "output_type": "stream",
     "text": [
      "environ({'ALLUSERSPROFILE': 'C:\\\\ProgramData', 'APPCODE_VM_OPTIONS': 'E:\\\\PyCharm 2024.1\\\\bin\\\\Crack\\\\jetbra\\\\vmoptions\\\\appcode.vmoptions', 'APPDATA': 'C:\\\\Users\\\\Administrator\\\\AppData\\\\Roaming', 'CHROME_CRASHPAD_PIPE_NAME': '\\\\\\\\.\\\\pipe\\\\crashpad_14996_KPKCIEOLKZVSISDD', 'CLION': 'E:\\\\CLion 2024.1\\\\bin;', 'CLION_VM_OPTIONS': 'E:\\\\PyCharm 2024.1\\\\bin\\\\Crack\\\\jetbra\\\\vmoptions\\\\clion.vmoptions', 'COMMONPROGRAMFILES': 'C:\\\\Program Files\\\\Common Files', 'COMMONPROGRAMFILES(X86)': 'C:\\\\Program Files (x86)\\\\Common Files', 'COMMONPROGRAMW6432': 'C:\\\\Program Files\\\\Common Files', 'COMPUTERNAME': 'USERUQI-BIHEF16', 'COMSPEC': 'C:\\\\Windows\\\\system32\\\\cmd.exe', 'CUDA_PATH': 'E:\\\\Cuda', 'CUDA_PATH_V12_3': 'E:\\\\Cuda', 'DATAGRIP_VM_OPTIONS': 'E:\\\\PyCharm 2024.1\\\\bin\\\\Crack\\\\jetbra\\\\vmoptions\\\\datagrip.vmoptions', 'DATASPELL_VM_OPTIONS': 'E:\\\\PyCharm 2024.1\\\\bin\\\\Crack\\\\jetbra\\\\vmoptions\\\\dataspell.vmoptions', 'DEVECOSTUDIO_VM_OPTIONS': 'E:\\\\PyCharm 2024.1\\\\bin\\\\Crack\\\\jetbra\\\\vmoptions\\\\devecostudio.vmoptions', 'DRIVERDATA': 'C:\\\\Windows\\\\System32\\\\Drivers\\\\DriverData', 'ELECTRON_RUN_AS_NODE': '1', 'GATEWAY_VM_OPTIONS': 'E:\\\\PyCharm 2024.1\\\\bin\\\\Crack\\\\jetbra\\\\vmoptions\\\\gateway.vmoptions', 'GOLAND_VM_OPTIONS': 'E:\\\\PyCharm 2024.1\\\\bin\\\\Crack\\\\jetbra\\\\vmoptions\\\\goland.vmoptions', 'HOMEDRIVE': 'C:', 'HOMEPATH': '\\\\Users\\\\Administrator', 'IDEA_VM_OPTIONS': 'E:\\\\PyCharm 2024.1\\\\bin\\\\Crack\\\\jetbra\\\\vmoptions\\\\idea.vmoptions', 'IGCCSVC_DB': 'AQAAANCMnd8BFdERjHoAwE/Cl+sBAAAAxAyTJ3NcUE+hE4mJ8Oq35gQAAAACAAAAAAAQZgAAAAEAACAAAACLzhke9v1KwIkaee8NakDt8Zv1hscKNp9G6gD+rcwoWgAAAAAOgAAAAAIAACAAAAAFELudCkIalOcaj7kYmuvqcKYbezdCXykDyAF+a50UimAAAAAXKbuoqTTj1Et4vKzK/09H0nFqe3lZpXC58vm4C3KEFRaswJXnt+s/CLOYs9STxqsr93dnJIsBT1rPxoZ7f/+UtZ74Ojhfod5Sso+19BldfgI4nADrUiVhWLgY9TCfG+ZAAAAAhILSLIabxLxvG/sLsHH7LyWhaqJ2PvhE/p+chc00f2LO2p86M77Ptxwc/AkS0jXUV+UfwWwY/HPVPUq06FNyJA==', 'JETBRAINS RIDER': 'E:\\\\JetBrains Rider 2024.1\\\\bin;', 'JETBRAINSCLIENT_VM_OPTIONS': 'E:\\\\PyCharm 2024.1\\\\bin\\\\Crack\\\\jetbra\\\\vmoptions\\\\jetbrainsclient.vmoptions', 'JETBRAINS_CLIENT_VM_OPTIONS': 'E:\\\\PyCharm 2024.1\\\\bin\\\\Crack\\\\jetbra\\\\vmoptions\\\\jetbrains_client.vmoptions', 'LOCALAPPDATA': 'C:\\\\Users\\\\Administrator\\\\AppData\\\\Local', 'LOGONSERVER': '\\\\\\\\USERUQI-BIHEF16', 'NUMBER_OF_PROCESSORS': '20', 'ONEDRIVE': 'C:\\\\Users\\\\Administrator\\\\OneDrive', 'ORIGINAL_XDG_CURRENT_DESKTOP': 'undefined', 'OS': 'Windows_NT', 'PATH': 'E:\\\\Python;E:\\\\Python\\\\Scripts;c:/rtools44/x86_64-w64-mingw32.static.posix/bin;c:/rtools44/usr/bin;C:\\\\Program Files\\\\Common Files\\\\Oracle\\\\Java\\\\javapath;c:\\\\Users\\\\Administrator\\\\AppData\\\\Local\\\\Programs\\\\cursor\\\\resources\\\\app\\\\bin;E:\\\\Cuda\\\\bin;E:\\\\Cuda\\\\libnvvp;E:\\\\Python\\\\Scripts\\\\;E:\\\\Python\\\\;C:\\\\Windows\\\\system32;C:\\\\Windows;C:\\\\Windows\\\\System32\\\\Wbem;C:\\\\Windows\\\\System32\\\\WindowsPowerShell\\\\v1.0\\\\;C:\\\\Program Files\\\\dotnet\\\\;C:\\\\Program Files (x86)\\\\Windows Kits\\\\10\\\\Windows Performance Toolkit\\\\;E:\\\\mingw64\\\\bin;E:\\\\leetcode\\\\;E:\\\\VIVO\\\\pcsuite\\\\;C:\\\\Windows\\\\System32\\\\OpenSSH;E:\\\\Git\\\\Git\\\\mingw64\\\\libexec\\\\git-core;E:\\\\Git\\\\Git\\\\mingw64\\\\bin;C:\\\\Program Files\\\\NVIDIA Corporation\\\\Nsight Compute 2023.3.1\\\\;C:\\\\Program Files (x86)\\\\NVIDIA Corporation\\\\PhysX\\\\Common;C:\\\\Program Files\\\\NVIDIA Corporation\\\\NVIDIA app\\\\NvDLISR;C:\\\\Users\\\\Administrator\\\\AppData\\\\Local\\\\Microsoft\\\\WindowsApps;C:\\\\Users\\\\Administrator\\\\AppData\\\\Roaming\\\\npm;E:\\\\PyCharm\\\\PyCharm Community Edition 2024.2.4\\\\bin;E:\\\\TEX\\\\texlive\\\\2024\\\\bin\\\\windows;C:\\\\Users\\\\Administrator\\\\AppData\\\\Local\\\\Pandoc\\\\;C:\\\\Users\\\\Administrator\\\\.dotnet\\\\tools;E:\\\\PostgreSQL\\\\bin;C:\\\\Users\\\\Administrator\\\\AppData\\\\Roaming\\\\Python\\\\Python312\\\\Scripts;E:\\\\Java\\\\bin;E:\\\\Microsoft VS Code\\\\bin;E:\\\\CLion 2024.1\\\\bin;E:\\\\JetBrains Rider 2024.1\\\\bin;C:\\\\Users\\\\Administrator\\\\AppData\\\\Local\\\\JetBrains\\\\Toolbox\\\\scripts;;E:\\\\PyCharm 2024.1\\\\bin', 'PATHEXT': '.COM;.EXE;.BAT;.CMD;.VBS;.VBE;.JS;.JSE;.WSF;.WSH;.MSC;.PY;.PYW', 'PHPSTORM_VM_OPTIONS': 'E:\\\\PyCharm 2024.1\\\\bin\\\\Crack\\\\jetbra\\\\vmoptions\\\\phpstorm.vmoptions', 'PROCESSOR_ARCHITECTURE': 'AMD64', 'PROCESSOR_IDENTIFIER': 'Intel64 Family 6 Model 154 Stepping 3, GenuineIntel', 'PROCESSOR_LEVEL': '6', 'PROCESSOR_REVISION': '9a03', 'PROGRAMDATA': 'C:\\\\ProgramData', 'PROGRAMFILES': 'C:\\\\Program Files', 'PROGRAMFILES(X86)': 'C:\\\\Program Files (x86)', 'PROGRAMW6432': 'C:\\\\Program Files', 'PROMPT': '$P$G', 'PSMODULEPATH': 'C:\\\\Program Files\\\\WindowsPowerShell\\\\Modules;C:\\\\Windows\\\\system32\\\\WindowsPowerShell\\\\v1.0\\\\Modules', 'PUBLIC': 'C:\\\\Users\\\\Public', 'PYCHARM': 'E:\\\\PyCharm 2024.1\\\\bin;', 'PYCHARM COMMUNITY EDITION': 'E:\\\\PyCharm\\\\PyCharm Community Edition 2024.2.4\\\\bin;', 'PYCHARM_VM_OPTIONS': 'E:\\\\PyCharm 2024.1\\\\bin\\\\Crack\\\\jetbra\\\\vmoptions\\\\pycharm.vmoptions', 'PYTHONIOENCODING': 'utf-8', 'PYTHONUNBUFFERED': '1', 'PYTHON_FROZEN_MODULES': 'on', 'RIDER_VM_OPTIONS': 'E:\\\\PyCharm 2024.1\\\\bin\\\\Crack\\\\jetbra\\\\vmoptions\\\\rider.vmoptions', 'RUBYMINE_VM_OPTIONS': 'E:\\\\PyCharm 2024.1\\\\bin\\\\Crack\\\\jetbra\\\\vmoptions\\\\rubymine.vmoptions', 'R_HOME': 'E:/R/R-4.4.2', 'SESSIONNAME': 'Console', 'STUDIO_VM_OPTIONS': 'E:\\\\PyCharm 2024.1\\\\bin\\\\Crack\\\\jetbra\\\\vmoptions\\\\studio.vmoptions', 'SYSTEMDRIVE': 'C:', 'SYSTEMROOT': 'C:\\\\Windows', 'TEMP': 'C:\\\\Users\\\\ADMINI~1\\\\AppData\\\\Local\\\\Temp', 'TMP': 'C:\\\\Users\\\\ADMINI~1\\\\AppData\\\\Local\\\\Temp', 'USERDOMAIN': 'USERUQI-BIHEF16', 'USERDOMAIN_ROAMINGPROFILE': 'USERUQI-BIHEF16', 'USERNAME': 'Administrator', 'USERPROFILE': 'C:\\\\Users\\\\Administrator', 'VSCODE_CODE_CACHE_PATH': 'C:\\\\Users\\\\Administrator\\\\AppData\\\\Roaming\\\\Code\\\\CachedData\\\\138f619c86f1199955d53b4166bef66ef252935c', 'VSCODE_CRASH_REPORTER_PROCESS_TYPE': 'extensionHost', 'VSCODE_CWD': 'E:\\\\Microsoft VS Code', 'VSCODE_ESM_ENTRYPOINT': 'vs/workbench/api/node/extensionHostProcess', 'VSCODE_HANDLES_UNCAUGHT_ERRORS': 'true', 'VSCODE_IPC_HOOK': '\\\\\\\\.\\\\pipe\\\\c5f8be1b-1.96.0-main-sock', 'VSCODE_NLS_CONFIG': '{\"userLocale\":\"zh-cn\",\"osLocale\":\"zh-cn\",\"resolvedLanguage\":\"zh-cn\",\"defaultMessagesFile\":\"E:\\\\\\\\Microsoft VS Code\\\\\\\\resources\\\\\\\\app\\\\\\\\out\\\\\\\\nls.messages.json\",\"languagePack\":{\"translationsConfigFile\":\"C:\\\\\\\\Users\\\\\\\\Administrator\\\\\\\\AppData\\\\\\\\Roaming\\\\\\\\Code\\\\\\\\clp\\\\\\\\6d6cd612ec0ae3cd32737a6f6b7ad966.zh-cn\\\\\\\\tcf.json\",\"messagesFile\":\"C:\\\\\\\\Users\\\\\\\\Administrator\\\\\\\\AppData\\\\\\\\Roaming\\\\\\\\Code\\\\\\\\clp\\\\\\\\6d6cd612ec0ae3cd32737a6f6b7ad966.zh-cn\\\\\\\\138f619c86f1199955d53b4166bef66ef252935c\\\\\\\\nls.messages.json\",\"corruptMarkerFile\":\"C:\\\\\\\\Users\\\\\\\\Administrator\\\\\\\\AppData\\\\\\\\Roaming\\\\\\\\Code\\\\\\\\clp\\\\\\\\6d6cd612ec0ae3cd32737a6f6b7ad966.zh-cn\\\\\\\\corrupted.info\"},\"locale\":\"zh-cn\",\"availableLanguages\":{\"*\":\"zh-cn\"},\"_languagePackId\":\"6d6cd612ec0ae3cd32737a6f6b7ad966.zh-cn\",\"_languagePackSupport\":true,\"_translationsConfigFile\":\"C:\\\\\\\\Users\\\\\\\\Administrator\\\\\\\\AppData\\\\\\\\Roaming\\\\\\\\Code\\\\\\\\clp\\\\\\\\6d6cd612ec0ae3cd32737a6f6b7ad966.zh-cn\\\\\\\\tcf.json\",\"_cacheRoot\":\"C:\\\\\\\\Users\\\\\\\\Administrator\\\\\\\\AppData\\\\\\\\Roaming\\\\\\\\Code\\\\\\\\clp\\\\\\\\6d6cd612ec0ae3cd32737a6f6b7ad966.zh-cn\",\"_resolvedLanguagePackCoreLocation\":\"C:\\\\\\\\Users\\\\\\\\Administrator\\\\\\\\AppData\\\\\\\\Roaming\\\\\\\\Code\\\\\\\\clp\\\\\\\\6d6cd612ec0ae3cd32737a6f6b7ad966.zh-cn\\\\\\\\138f619c86f1199955d53b4166bef66ef252935c\",\"_corruptedFile\":\"C:\\\\\\\\Users\\\\\\\\Administrator\\\\\\\\AppData\\\\\\\\Roaming\\\\\\\\Code\\\\\\\\clp\\\\\\\\6d6cd612ec0ae3cd32737a6f6b7ad966.zh-cn\\\\\\\\corrupted.info\"}', 'VSCODE_PID': '14996', 'WEBIDE_VM_OPTIONS': 'E:\\\\PyCharm 2024.1\\\\bin\\\\Crack\\\\jetbra\\\\vmoptions\\\\webide.vmoptions', 'WEBSTORM_VM_OPTIONS': 'E:\\\\PyCharm 2024.1\\\\bin\\\\Crack\\\\jetbra\\\\vmoptions\\\\webstorm.vmoptions', 'WINDIR': 'C:\\\\Windows', 'ZES_ENABLE_SYSMAN': '1', 'R_USER': 'C:\\\\Users\\\\Administrator\\\\Documents', 'HOME': 'C:\\\\Users\\\\Administrator\\\\Documents', 'MSYS2_ENV_CONV_EXCL': 'R_ARCH', 'R_COMPILED_BY': 'gcc 13.3.0', 'R_ARCH': '/x64', 'R_LIBS_SITE': 'E:/R/R-4.4.2/site-library', 'R_LIBS_USER': 'C:\\\\Users\\\\Administrator\\\\AppData\\\\Local/R/win-library/4.4', 'CURL_CA_BUNDLE': 'E:/R/R-4.4.2/etc/curl-ca-bundle.crt', 'R_RTOOLS44_PATH': 'c:/rtools44/x86_64-w64-mingw32.static.posix/bin;c:/rtools44/usr/bin', 'R_SESSION_INITIALIZED': 'PID=2744:NAME=\"reticulate\"', 'PYTHONPATH': 'E:\\\\Python\\\\python312.zip;E:\\\\Python\\\\DLLs;E:\\\\Python\\\\Lib;E:\\\\Python;C:\\\\Users\\\\Administrator\\\\AppData\\\\Roaming\\\\Python\\\\Python312\\\\site-packages;C:\\\\Users\\\\Administrator\\\\AppData\\\\Roaming\\\\Python\\\\Python312\\\\site-packages\\\\win32;C:\\\\Users\\\\Administrator\\\\AppData\\\\Roaming\\\\Python\\\\Python312\\\\site-packages\\\\win32\\\\lib;C:\\\\Users\\\\Administrator\\\\AppData\\\\Roaming\\\\Python\\\\Python312\\\\site-packages\\\\Pythonwin;E:\\\\Python\\\\Lib\\\\site-packages;E:/R/R-4.4.2/library/reticulate/python'})\n"
     ]
    }
   ],
   "source": [
    "# 通过 reticulate 在 R 中运行 Python 代码\n",
    "py_run_string('import os')\n",
    "py_run_string('print(\"Hello from Python\")')\n",
    "\n",
    "# 获取 Python 变量或结果\n",
    "py_result <- py$os$environ\n",
    "print(py_result)\n"
   ]
  }
 ],
 "metadata": {
  "kernelspec": {
   "display_name": "R",
   "language": "R",
   "name": "ir"
  },
  "language_info": {
   "codemirror_mode": "r",
   "file_extension": ".r",
   "mimetype": "text/x-r-source",
   "name": "R",
   "pygments_lexer": "r",
   "version": "4.4.2"
  }
 },
 "nbformat": 4,
 "nbformat_minor": 2
}
